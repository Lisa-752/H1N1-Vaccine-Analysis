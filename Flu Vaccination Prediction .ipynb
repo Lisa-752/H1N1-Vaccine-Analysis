{
 "cells": [
  {
   "cell_type": "markdown",
   "id": "ad7a61ac",
   "metadata": {},
   "source": [
    "# Business Understanding.\n",
    "## Overview.\n",
    "Vaccine is a biological substance introduced into an individual that stimulates the immune system to recognize and fight specific pathogens without causeing the disease itself.\n",
    "* **Vaccination** is an effective tool that plays a crucial in public health by preventing the spread of a disease. However factors such as Individual behaviors, Opinions, Vaccination accessibility and coverage and Social-economic factors impact vaccination rates.\n",
    "* This study aims to analyze how Demographics, Opinions and Behaviors influence `H1N1 vaccination` uptake. Also this analysis owill enable us to estimate the likelihood of reaching herd immunity. By using a predictive model, I will be identifying high-risk individuals who are less likely to get vaccinated, this will allow public interventions.\n",
    "\n",
    "## Problem Statement.\n",
    "* Despite the availability of H1N1 vaccine, many individuals are unvaccinated due factors such Beliefs, Lack of Knowledge, Socio-economic factors, Age and History of Chronic Medical Condition. Understanding each factor can provide guidance for future Public Health efforts.\n",
    "\n",
    "## Objectives.\n",
    "$Main$ $Objectives$:\n",
    " * Develop a predictive model to determine whether individuals received the H1N1 vaccine.\n",
    "\n",
    "$Specific$ $Objectives$:\n",
    " * Estimating Herd Immunity using Vaccination coverage and Risk-based factors.\n",
    "   - Examining vaccination coverage in different regions.\n",
    "   - Assessing Behaviour risk factors such as wearing masks, large gatherings and etc.\n",
    " * Understanding Behavariol, Attitudinal and Health factors Vaccination.\n",
    "   - Analyze how age, education, income, personal opinions or beliefs affect vaccination uptake.\n",
    "   - Here I will also identify reasons of `Vaccine efficacy`. \n",
    " * Evaluate the Role of Healthcare recommendation in vaccine decision.\n",
    "   - Assess the impact of a Healthcare Practitioners recommendation concerning vaccination uptake.\n",
    " * Identifying descrepancies in vaccine access and acceptance.\n",
    "   - Analyze aspects such as racial, geographic and socioeconomic disparity in vacination uptake. This will help identify       underserved communities.\n",
    "   \n",
    "## Key Business Questions.   \n",
    "**1. Who is likely to get the H1N1 vaccine?**\n",
    "\n",
    "**2. Are we reaching the protective vaccine coverage levels?**\n",
    "\n",
    "**3. What influences individual vaccine decisions?**\n",
    "\n",
    "**4. How do Healthcare practitioners influence vaccine decisions?**\n",
    "\n",
    "**5. Which groups have the lowest vaccine uptake?**"
   ]
  },
  {
   "cell_type": "markdown",
   "id": "7f1573e3",
   "metadata": {},
   "source": [
    "# Data Understanding.\n",
    "## Data Collection.\n",
    "### Overview.\n",
    "-This data was sourced from `The National 2009 H1N1 Flu Survey`.The main focus of the dataset is to predict the likelihood of an individual to get the H1N1 vaccine, and an understanding of what would influence whether an individual received the H1N1 vaccine.\n",
    "\n",
    "### Data Composition.\n",
    "I have loaded 3 datasets which is the `Training Features, Testing Features and Training Label`.\n",
    "\n",
    "**1. Training and Testing Features**\n",
    "\n",
    "* This dataset comprises of:\n",
    "\n",
    " * h1n1_concern - Level of concern about the H1N1 flu.<br>\n",
    "    0 = Not at all concerned; 1 = Not very concerned; 2 = Somewhat concerned; 3 = Very concerned.\n",
    "\n",
    " * h1n1_knowledge - Level of knowledge about H1N1 flu.<br>\n",
    "    0 = No knowledge; 1 = A little knowledge; 2 = A lot of knowledge.\n",
    "\n",
    " * behavioral_antiviral_meds - Has taken antiviral medications. (binary)\n",
    " * behavioral_avoidance - Has avoided close contact with others with flu-like symptoms. (binary)\n",
    " * behavioral_face_mask - Has bought a face mask. (binary)\n",
    " * behavioral_wash_hands - Has frequently washed hands or used hand sanitizer. (binary)\n",
    " * behavioral_large_gatherings - Has reduced time at large gatherings. (binary)\n",
    " * behavioral_outside_home - Has reduced contact with people outside of own household. (binary)\n",
    " * behavioral_touch_face - Has avoided touching eyes, nose, or mouth. (binary)\n",
    " * doctor_recc_h1n1 - H1N1 flu vaccine was recommended by doctor. (binary)\n",
    " * doctor_recc_seasonal - Seasonal flu vaccine was recommended by doctor. (binary)\n",
    " * chronic_med_condition - Has any of the following chronic medical conditions: asthma or an other lung condition, diabetes, a heart condition, a kidney condition, sickle cell anemia or other anemia, a neurological or neuromuscular condition, a liver condition, or a weakened immune system caused by a chronic illness or by medicines taken for a chronic illness. (binary)\n",
    " * child_under_6_months - Has regular close contact with a child under the age of six months. (binary)\n",
    " * health_worker - Is a healthcare worker. (binary)\n",
    " * health_insurance - Has health insurance. (binary)\n",
    " * opinion_h1n1_vacc_effective - Respondent's opinion about H1N1 vaccine effectiveness.<br>\n",
    "    1 = Not at all effective; 2 = Not very effective; 3 = Don't know; 4 = Somewhat effective; 5 = Very effective.\n",
    " * opinion_h1n1_risk - Respondent's opinion about risk of getting sick with H1N1 flu without vaccine.<br>\n",
    "    1 = Very Low; 2 = Somewhat low; 3 = Don't know; 4 = Somewhat high; 5 = Very high.\n",
    " * opinion_h1n1_sick_from_vacc - Respondent's worry of getting sick from taking H1N1 vaccine.<br>\n",
    "    1 = Not at all worried; 2 = Not very worried; 3 = Don't know; 4 = Somewhat worried; 5 = Very worried.\n",
    " * opinion_seas_vacc_effective - Respondent's opinion about seasonal flu vaccine effectiveness.<br>\n",
    "    1 = Not at all effective; 2 = Not very effective; 3 = Don't know; 4 = Somewhat effective; 5 = Very effective.\n",
    " * opinion_seas_risk - Respondent's opinion about risk of getting sick with seasonal flu without vaccine.<br>\n",
    "    1 = Very Low; 2 = Somewhat low; 3 = Don't know; 4 = Somewhat high; 5 = Very high.\n",
    " * opinion_seas_sick_from_vacc - Respondent's worry of getting sick from taking seasonal flu vaccine.<br>\n",
    "    1 = Not at all worried; 2 = Not very worried; 3 = Don't know; 4 = Somewhat worried; 5 = Very worried.\n",
    " * age_group - Age group of respondent.\n",
    " * education - Self-reported education level.\n",
    " * race - Race of respondent.\n",
    " * sex - Sex of respondent.\n",
    " * income_poverty - Household annual income of respondent with respect to 2008 Census poverty thresholds.\n",
    " * marital_status - Marital status of respondent.\n",
    " * rent_or_own - Housing situation of respondent.\n",
    " * employment_status - Employment status of respondent.\n",
    " * hhs_geo_region - Respondent's residence using a 10-region geographic classification defined by the U.S. Dept. of Health and  Human Services. Values are represented as short random character strings.\n",
    " * census_msa - Respondent's residence within metropolitan statistical areas (MSA) as defined by the U.S. Census.\n",
    " * household_adults - Number of other adults in household, top-coded to 3.\n",
    " * household_children - Number of children in household, top-coded to 3.\n",
    " * employment_industry - Type of industry respondent is employed in. Values are represented as short random character strings.\n",
    " * employment_occupation - Type of occupation of respondent. Values are represented as short random character strings.\n",
    "\n",
    "**2. Training labels**\n",
    " * h1n1_vaccine - Whether respondent received H1N1 flu vaccine.<br>\n",
    "     0 = No, 1 = Yes\n",
    "     \n",
    "All this dataset will be essential to make informed decisions and predict.The training dataseys will be combined into one for the analysis."
   ]
  },
  {
   "cell_type": "markdown",
   "id": "7fa53ac5",
   "metadata": {},
   "source": [
    "## Data Description"
   ]
  },
  {
   "cell_type": "code",
   "execution_count": 1,
   "id": "1d4a448f",
   "metadata": {},
   "outputs": [],
   "source": [
    "# import the necessary libraries\n",
    "import pandas as pd\n",
    "import numpy as np\n",
    "%matplotlib inline \n",
    "import matplotlib.pyplot as plt\n",
    "import plotly.express as px\n",
    "import seaborn as sns"
   ]
  },
  {
   "cell_type": "code",
   "execution_count": 3,
   "id": "82574fc5",
   "metadata": {
    "scrolled": false
   },
   "outputs": [
    {
     "ename": "FileNotFoundError",
     "evalue": "[Errno 2] No such file or directory: 'training_set_features.csv'",
     "output_type": "error",
     "traceback": [
      "\u001b[1;31m---------------------------------------------------------------------------\u001b[0m",
      "\u001b[1;31mFileNotFoundError\u001b[0m                         Traceback (most recent call last)",
      "Cell \u001b[1;32mIn[3], line 2\u001b[0m\n\u001b[0;32m      1\u001b[0m \u001b[38;5;66;03m# load the dataset\u001b[39;00m\n\u001b[1;32m----> 2\u001b[0m train_features \u001b[38;5;241m=\u001b[39m pd\u001b[38;5;241m.\u001b[39mread_csv(\u001b[38;5;124m\"\u001b[39m\u001b[38;5;124mtraining_set_features.csv\u001b[39m\u001b[38;5;124m\"\u001b[39m)\n",
      "File \u001b[1;32m~\\anaconda3\\Lib\\site-packages\\pandas\\io\\parsers\\readers.py:1026\u001b[0m, in \u001b[0;36mread_csv\u001b[1;34m(filepath_or_buffer, sep, delimiter, header, names, index_col, usecols, dtype, engine, converters, true_values, false_values, skipinitialspace, skiprows, skipfooter, nrows, na_values, keep_default_na, na_filter, verbose, skip_blank_lines, parse_dates, infer_datetime_format, keep_date_col, date_parser, date_format, dayfirst, cache_dates, iterator, chunksize, compression, thousands, decimal, lineterminator, quotechar, quoting, doublequote, escapechar, comment, encoding, encoding_errors, dialect, on_bad_lines, delim_whitespace, low_memory, memory_map, float_precision, storage_options, dtype_backend)\u001b[0m\n\u001b[0;32m   1013\u001b[0m kwds_defaults \u001b[38;5;241m=\u001b[39m _refine_defaults_read(\n\u001b[0;32m   1014\u001b[0m     dialect,\n\u001b[0;32m   1015\u001b[0m     delimiter,\n\u001b[1;32m   (...)\u001b[0m\n\u001b[0;32m   1022\u001b[0m     dtype_backend\u001b[38;5;241m=\u001b[39mdtype_backend,\n\u001b[0;32m   1023\u001b[0m )\n\u001b[0;32m   1024\u001b[0m kwds\u001b[38;5;241m.\u001b[39mupdate(kwds_defaults)\n\u001b[1;32m-> 1026\u001b[0m \u001b[38;5;28;01mreturn\u001b[39;00m _read(filepath_or_buffer, kwds)\n",
      "File \u001b[1;32m~\\anaconda3\\Lib\\site-packages\\pandas\\io\\parsers\\readers.py:620\u001b[0m, in \u001b[0;36m_read\u001b[1;34m(filepath_or_buffer, kwds)\u001b[0m\n\u001b[0;32m    617\u001b[0m _validate_names(kwds\u001b[38;5;241m.\u001b[39mget(\u001b[38;5;124m\"\u001b[39m\u001b[38;5;124mnames\u001b[39m\u001b[38;5;124m\"\u001b[39m, \u001b[38;5;28;01mNone\u001b[39;00m))\n\u001b[0;32m    619\u001b[0m \u001b[38;5;66;03m# Create the parser.\u001b[39;00m\n\u001b[1;32m--> 620\u001b[0m parser \u001b[38;5;241m=\u001b[39m TextFileReader(filepath_or_buffer, \u001b[38;5;241m*\u001b[39m\u001b[38;5;241m*\u001b[39mkwds)\n\u001b[0;32m    622\u001b[0m \u001b[38;5;28;01mif\u001b[39;00m chunksize \u001b[38;5;129;01mor\u001b[39;00m iterator:\n\u001b[0;32m    623\u001b[0m     \u001b[38;5;28;01mreturn\u001b[39;00m parser\n",
      "File \u001b[1;32m~\\anaconda3\\Lib\\site-packages\\pandas\\io\\parsers\\readers.py:1620\u001b[0m, in \u001b[0;36mTextFileReader.__init__\u001b[1;34m(self, f, engine, **kwds)\u001b[0m\n\u001b[0;32m   1617\u001b[0m     \u001b[38;5;28mself\u001b[39m\u001b[38;5;241m.\u001b[39moptions[\u001b[38;5;124m\"\u001b[39m\u001b[38;5;124mhas_index_names\u001b[39m\u001b[38;5;124m\"\u001b[39m] \u001b[38;5;241m=\u001b[39m kwds[\u001b[38;5;124m\"\u001b[39m\u001b[38;5;124mhas_index_names\u001b[39m\u001b[38;5;124m\"\u001b[39m]\n\u001b[0;32m   1619\u001b[0m \u001b[38;5;28mself\u001b[39m\u001b[38;5;241m.\u001b[39mhandles: IOHandles \u001b[38;5;241m|\u001b[39m \u001b[38;5;28;01mNone\u001b[39;00m \u001b[38;5;241m=\u001b[39m \u001b[38;5;28;01mNone\u001b[39;00m\n\u001b[1;32m-> 1620\u001b[0m \u001b[38;5;28mself\u001b[39m\u001b[38;5;241m.\u001b[39m_engine \u001b[38;5;241m=\u001b[39m \u001b[38;5;28mself\u001b[39m\u001b[38;5;241m.\u001b[39m_make_engine(f, \u001b[38;5;28mself\u001b[39m\u001b[38;5;241m.\u001b[39mengine)\n",
      "File \u001b[1;32m~\\anaconda3\\Lib\\site-packages\\pandas\\io\\parsers\\readers.py:1880\u001b[0m, in \u001b[0;36mTextFileReader._make_engine\u001b[1;34m(self, f, engine)\u001b[0m\n\u001b[0;32m   1878\u001b[0m     \u001b[38;5;28;01mif\u001b[39;00m \u001b[38;5;124m\"\u001b[39m\u001b[38;5;124mb\u001b[39m\u001b[38;5;124m\"\u001b[39m \u001b[38;5;129;01mnot\u001b[39;00m \u001b[38;5;129;01min\u001b[39;00m mode:\n\u001b[0;32m   1879\u001b[0m         mode \u001b[38;5;241m+\u001b[39m\u001b[38;5;241m=\u001b[39m \u001b[38;5;124m\"\u001b[39m\u001b[38;5;124mb\u001b[39m\u001b[38;5;124m\"\u001b[39m\n\u001b[1;32m-> 1880\u001b[0m \u001b[38;5;28mself\u001b[39m\u001b[38;5;241m.\u001b[39mhandles \u001b[38;5;241m=\u001b[39m get_handle(\n\u001b[0;32m   1881\u001b[0m     f,\n\u001b[0;32m   1882\u001b[0m     mode,\n\u001b[0;32m   1883\u001b[0m     encoding\u001b[38;5;241m=\u001b[39m\u001b[38;5;28mself\u001b[39m\u001b[38;5;241m.\u001b[39moptions\u001b[38;5;241m.\u001b[39mget(\u001b[38;5;124m\"\u001b[39m\u001b[38;5;124mencoding\u001b[39m\u001b[38;5;124m\"\u001b[39m, \u001b[38;5;28;01mNone\u001b[39;00m),\n\u001b[0;32m   1884\u001b[0m     compression\u001b[38;5;241m=\u001b[39m\u001b[38;5;28mself\u001b[39m\u001b[38;5;241m.\u001b[39moptions\u001b[38;5;241m.\u001b[39mget(\u001b[38;5;124m\"\u001b[39m\u001b[38;5;124mcompression\u001b[39m\u001b[38;5;124m\"\u001b[39m, \u001b[38;5;28;01mNone\u001b[39;00m),\n\u001b[0;32m   1885\u001b[0m     memory_map\u001b[38;5;241m=\u001b[39m\u001b[38;5;28mself\u001b[39m\u001b[38;5;241m.\u001b[39moptions\u001b[38;5;241m.\u001b[39mget(\u001b[38;5;124m\"\u001b[39m\u001b[38;5;124mmemory_map\u001b[39m\u001b[38;5;124m\"\u001b[39m, \u001b[38;5;28;01mFalse\u001b[39;00m),\n\u001b[0;32m   1886\u001b[0m     is_text\u001b[38;5;241m=\u001b[39mis_text,\n\u001b[0;32m   1887\u001b[0m     errors\u001b[38;5;241m=\u001b[39m\u001b[38;5;28mself\u001b[39m\u001b[38;5;241m.\u001b[39moptions\u001b[38;5;241m.\u001b[39mget(\u001b[38;5;124m\"\u001b[39m\u001b[38;5;124mencoding_errors\u001b[39m\u001b[38;5;124m\"\u001b[39m, \u001b[38;5;124m\"\u001b[39m\u001b[38;5;124mstrict\u001b[39m\u001b[38;5;124m\"\u001b[39m),\n\u001b[0;32m   1888\u001b[0m     storage_options\u001b[38;5;241m=\u001b[39m\u001b[38;5;28mself\u001b[39m\u001b[38;5;241m.\u001b[39moptions\u001b[38;5;241m.\u001b[39mget(\u001b[38;5;124m\"\u001b[39m\u001b[38;5;124mstorage_options\u001b[39m\u001b[38;5;124m\"\u001b[39m, \u001b[38;5;28;01mNone\u001b[39;00m),\n\u001b[0;32m   1889\u001b[0m )\n\u001b[0;32m   1890\u001b[0m \u001b[38;5;28;01massert\u001b[39;00m \u001b[38;5;28mself\u001b[39m\u001b[38;5;241m.\u001b[39mhandles \u001b[38;5;129;01mis\u001b[39;00m \u001b[38;5;129;01mnot\u001b[39;00m \u001b[38;5;28;01mNone\u001b[39;00m\n\u001b[0;32m   1891\u001b[0m f \u001b[38;5;241m=\u001b[39m \u001b[38;5;28mself\u001b[39m\u001b[38;5;241m.\u001b[39mhandles\u001b[38;5;241m.\u001b[39mhandle\n",
      "File \u001b[1;32m~\\anaconda3\\Lib\\site-packages\\pandas\\io\\common.py:873\u001b[0m, in \u001b[0;36mget_handle\u001b[1;34m(path_or_buf, mode, encoding, compression, memory_map, is_text, errors, storage_options)\u001b[0m\n\u001b[0;32m    868\u001b[0m \u001b[38;5;28;01melif\u001b[39;00m \u001b[38;5;28misinstance\u001b[39m(handle, \u001b[38;5;28mstr\u001b[39m):\n\u001b[0;32m    869\u001b[0m     \u001b[38;5;66;03m# Check whether the filename is to be opened in binary mode.\u001b[39;00m\n\u001b[0;32m    870\u001b[0m     \u001b[38;5;66;03m# Binary mode does not support 'encoding' and 'newline'.\u001b[39;00m\n\u001b[0;32m    871\u001b[0m     \u001b[38;5;28;01mif\u001b[39;00m ioargs\u001b[38;5;241m.\u001b[39mencoding \u001b[38;5;129;01mand\u001b[39;00m \u001b[38;5;124m\"\u001b[39m\u001b[38;5;124mb\u001b[39m\u001b[38;5;124m\"\u001b[39m \u001b[38;5;129;01mnot\u001b[39;00m \u001b[38;5;129;01min\u001b[39;00m ioargs\u001b[38;5;241m.\u001b[39mmode:\n\u001b[0;32m    872\u001b[0m         \u001b[38;5;66;03m# Encoding\u001b[39;00m\n\u001b[1;32m--> 873\u001b[0m         handle \u001b[38;5;241m=\u001b[39m \u001b[38;5;28mopen\u001b[39m(\n\u001b[0;32m    874\u001b[0m             handle,\n\u001b[0;32m    875\u001b[0m             ioargs\u001b[38;5;241m.\u001b[39mmode,\n\u001b[0;32m    876\u001b[0m             encoding\u001b[38;5;241m=\u001b[39mioargs\u001b[38;5;241m.\u001b[39mencoding,\n\u001b[0;32m    877\u001b[0m             errors\u001b[38;5;241m=\u001b[39merrors,\n\u001b[0;32m    878\u001b[0m             newline\u001b[38;5;241m=\u001b[39m\u001b[38;5;124m\"\u001b[39m\u001b[38;5;124m\"\u001b[39m,\n\u001b[0;32m    879\u001b[0m         )\n\u001b[0;32m    880\u001b[0m     \u001b[38;5;28;01melse\u001b[39;00m:\n\u001b[0;32m    881\u001b[0m         \u001b[38;5;66;03m# Binary mode\u001b[39;00m\n\u001b[0;32m    882\u001b[0m         handle \u001b[38;5;241m=\u001b[39m \u001b[38;5;28mopen\u001b[39m(handle, ioargs\u001b[38;5;241m.\u001b[39mmode)\n",
      "\u001b[1;31mFileNotFoundError\u001b[0m: [Errno 2] No such file or directory: 'training_set_features.csv'"
     ]
    }
   ],
   "source": [
    "# load the dataset\n",
    "train_features = pd.read_csv(\"training_set_features.csv\")"
   ]
  },
  {
   "cell_type": "code",
   "execution_count": null,
   "id": "dca48128",
   "metadata": {},
   "outputs": [],
   "source": []
  }
 ],
 "metadata": {
  "kernelspec": {
   "display_name": "Python 3 (ipykernel)",
   "language": "python",
   "name": "python3"
  },
  "language_info": {
   "codemirror_mode": {
    "name": "ipython",
    "version": 3
   },
   "file_extension": ".py",
   "mimetype": "text/x-python",
   "name": "python",
   "nbconvert_exporter": "python",
   "pygments_lexer": "ipython3",
   "version": "3.11.9"
  },
  "toc": {
   "base_numbering": 1,
   "nav_menu": {},
   "number_sections": true,
   "sideBar": true,
   "skip_h1_title": false,
   "title_cell": "Table of Contents",
   "title_sidebar": "Contents",
   "toc_cell": false,
   "toc_position": {},
   "toc_section_display": true,
   "toc_window_display": false
  }
 },
 "nbformat": 4,
 "nbformat_minor": 5
}
